{
  "nbformat": 4,
  "nbformat_minor": 0,
  "metadata": {
    "colab": {
      "provenance": [],
      "authorship_tag": "ABX9TyPBp95iyOS+79QovKcu5Bzz",
      "include_colab_link": true
    },
    "kernelspec": {
      "name": "python3",
      "display_name": "Python 3"
    },
    "language_info": {
      "name": "python"
    }
  },
  "cells": [
    {
      "cell_type": "markdown",
      "metadata": {
        "id": "view-in-github",
        "colab_type": "text"
      },
      "source": [
        "<a href=\"https://colab.research.google.com/github/asmahassouna/rep1/blob/main/Cos_Training.ipynb\" target=\"_parent\"><img src=\"https://colab.research.google.com/assets/colab-badge.svg\" alt=\"Open In Colab\"/></a>"
      ]
    },
    {
      "cell_type": "code",
      "execution_count": 8,
      "metadata": {
        "colab": {
          "base_uri": "https://localhost:8080/"
        },
        "id": "wK-AYGXeye40",
        "outputId": "affd965d-b47a-47c3-8455-6e7c999f09aa"
      },
      "outputs": [
        {
          "output_type": "stream",
          "name": "stdout",
          "text": [
            "[-1.0, -0.7260866373071617, -0.4024997370140509, -0.08477906213634434, 0.18205499002642517, 0.39684580640116923, 0.5797318757542436, 0.7511409760238664, 0.929843593497496, 1.1379425635322518, 1.4100262396071885, 1.8111367982460322, 2.4659523010837896, 3.481091120446543, 3.9840239754024296, 3.5799142362878964, 3.9342838641256046, 3.6341484369757358, 3.900044342976242, 3.670089111844099, 3.8747793435314155]\n"
          ]
        }
      ],
      "source": [
        "\n",
        "#exemple de decente degradé : gradient descent\n",
        "import numpy as np\n",
        "def f(x):\n",
        "   return 2 * x * x * np.cos(x) - 5 * x\n",
        "def df(x):\n",
        "   return 4 * x * np.cos(x) - 2 * x * x * np.sin(x) - 5\n",
        "\n",
        "x=[-1.]\n",
        "\n",
        "slope = df(x[0])\n",
        "alpha = 0.05\n",
        "for i in range(20):\n",
        "     x.append(x[i] - alpha * df(x[i]))\n",
        "print(x)"
      ]
    }
  ]
}