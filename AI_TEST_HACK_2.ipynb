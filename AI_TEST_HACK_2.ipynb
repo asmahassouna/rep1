{
  "nbformat": 4,
  "nbformat_minor": 0,
  "metadata": {
    "colab": {
      "provenance": [],
      "authorship_tag": "ABX9TyNcZUCEZNB52gUX4QpP05YK",
      "include_colab_link": true
    },
    "kernelspec": {
      "name": "python3",
      "display_name": "Python 3"
    },
    "language_info": {
      "name": "python"
    }
  },
  "cells": [
    {
      "cell_type": "markdown",
      "metadata": {
        "id": "view-in-github",
        "colab_type": "text"
      },
      "source": [
        "<a href=\"https://colab.research.google.com/github/asmahassouna/rep1/blob/main/AI_TEST_HACK_2.ipynb\" target=\"_parent\"><img src=\"https://colab.research.google.com/assets/colab-badge.svg\" alt=\"Open In Colab\"/></a>"
      ]
    },
    {
      "cell_type": "code",
      "execution_count": null,
      "metadata": {
        "id": "GZEoEd0g6Zag"
      },
      "outputs": [],
      "source": [
        "import yaml\n",
        "from sklearn.feature_extraction.text import TfidfVectorizer\n",
        "from sklearn.svm import SVC\n",
        "from sklearn.pipeline import Pipeline\n",
        "from sklearn.model_selection import train_test_split\n",
        "\n",
        "class AIAgentHacker:\n",
        "    def __init__(self):\n",
        "        # Chargement du fichier YAML contenant les bounties\n",
        "        with open(\"/content/sample_data/workflow.yaml\", \"r\") as file:\n",
        "            self.bounties = yaml.safe_load(file)[\"bounties\"]\n",
        "\n",
        "    def train_model(self, data, targets):\n",
        "        # Création d'un pipeline avec un vecteur TF-IDF et un classifieur SVM\n",
        "        self.pipeline = Pipeline([\n",
        "            ('tfidf', TfidfVectorizer()),\n",
        "            ('clf', SVC(kernel='linear'))\n",
        "        ])\n",
        "        # Entraînement du modèle\n",
        "        self.pipeline.fit(data, targets)\n",
        "\n",
        "    def exploit_bounties(self):\n",
        "        descriptions = [bounty['description'] for bounty in self.bounties]\n",
        "        targets = [1 if 'vulnérabilité' in bounty['description'].lower() else 0 for bounty in self.bounties]\n",
        "\n",
        "        # Entraînement du modèle\n",
        "        self.train_model(descriptions, targets)\n",
        "\n",
        "        for bounty in self.bounties:\n",
        "            print(f\"Exploitation du bounty: {bounty['title']}\")\n",
        "            print(f\"Description: {bounty['description']}\")\n",
        "            print(f\"Récompense: {bounty['reward']}\")\n",
        "            print(f\"Date limite: {bounty['deadline']}\")\n",
        "            print(\"Utilisation de l'intelligence artificielle pour rechercher des vulnérabilités...\")\n",
        "            # Prédiction de la présence de vulnérabilités\n",
        "            predicted = self.pipeline.predict([bounty['description']])\n",
        "            if predicted[0] == 1:\n",
        "                print(\"Vulnérabilités découvertes et signalées avec succès!\")\n",
        "            else:\n",
        "                print(\"Aucune vulnérabilité découverte.\")\n",
        "            print(\"Contactez le responsable pour plus d'informations:\", bounty['contact'])\n",
        "            print(\"\\n\")\n",
        "\n",
        "if __name__ == \"__main__\":\n",
        "    agent = AIAgentHacker()\n",
        "    agent.exploit_bounties()\n"
      ]
    }
  ]
}