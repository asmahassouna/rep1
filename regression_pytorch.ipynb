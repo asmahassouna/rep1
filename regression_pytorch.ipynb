#Linear Regression is an approach that tries to find a linear relationship between a dependent variable and an independent variable by minimizing the distance as shown below.
