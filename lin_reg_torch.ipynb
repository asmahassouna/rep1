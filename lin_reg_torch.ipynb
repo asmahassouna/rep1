{
  "nbformat": 4,
  "nbformat_minor": 0,
  "metadata": {
    "colab": {
      "provenance": [],
      "include_colab_link": true
    },
    "kernelspec": {
      "name": "python3",
      "display_name": "Python 3"
    },
    "language_info": {
      "name": "python"
    }
  },
  "cells": [
    {
      "cell_type": "markdown",
      "metadata": {
        "id": "view-in-github",
        "colab_type": "text"
      },
      "source": [
        "<a href=\"https://colab.research.google.com/github/asmahassouna/rep1/blob/main/lin_reg_torch.ipynb\" target=\"_parent\"><img src=\"https://colab.research.google.com/assets/colab-badge.svg\" alt=\"Open In Colab\"/></a>"
      ]
    },
    {
      "cell_type": "code",
      "execution_count": null,
      "metadata": {
        "id": "veXDpQ9M6l0i",
        "colab": {
          "base_uri": "https://localhost:8080/"
        },
        "outputId": "a88cdcc6-d188-476e-9c25-b5d36b1a4cd1"
      },
      "outputs": [
        {
          "output_type": "stream",
          "name": "stdout",
          "text": [
            "tensor([-3.1416, -3.1384, -3.1353,  ...,  3.1353,  3.1384,  3.1416])\n",
            "tensor([ 8.7423e-08, -3.1430e-03, -6.2863e-03,  ...,  6.2863e-03,\n",
            "         3.1430e-03, -8.7423e-08])\n",
            "99 4240.34814453125\n",
            "199 3001.4228515625\n",
            "299 2125.319091796875\n",
            "399 1505.75732421875\n",
            "499 1067.5972900390625\n",
            "599 757.71337890625\n",
            "699 538.542724609375\n",
            "799 383.5251159667969\n",
            "899 273.8785705566406\n",
            "999 196.32138061523438\n",
            "1099 141.46060180664062\n",
            "1199 102.65320587158203\n",
            "1299 75.20109558105469\n",
            "1399 55.78110885620117\n",
            "1499 42.04282760620117\n",
            "1599 32.32381057739258\n",
            "1699 25.447996139526367\n",
            "1799 20.583580017089844\n",
            "1899 17.142086029052734\n",
            "1999 14.707247734069824\n",
            "2099 12.984589576721191\n",
            "2199 11.765787124633789\n",
            "2299 10.903457641601562\n",
            "2399 10.293336868286133\n",
            "2499 9.861647605895996\n",
            "2599 9.556207656860352\n",
            "2699 9.340093612670898\n",
            "2799 9.187176704406738\n",
            "2899 9.078981399536133\n",
            "2999 9.002423286437988\n",
            "Result: y = -0.014397397637367249 + 0.8572241067886353 x + 0.0024837900418788195 x^2 + -0.09339912980794907 x^3\n"
          ]
        }
      ],
      "source": [
        "#Linear Regression is an approach that tries to find a linear relationship between a dependent variable and an independent variable by minimizing the distance as shown below.\n",
        "import numpy as np\n",
        "# create dummy data for training\n",
        "x_values = [i for i in range(11)]\n",
        "x_train = np.array(x_values, dtype=np.float32)\n",
        "x_train = x_train.reshape(-1, 1) #transformer l'array en un tab d'une colonne et de n lignes\n",
        "\n",
        "y_values = [2*i + 1 for i in x_values]\n",
        "y_train = np.array(y_values, dtype=np.float32)\n",
        "y_train = y_train.reshape(-1, 1)\n",
        "\n",
        "#Once we have created the dataset,\n",
        "#we can start writing the code for our model.\n",
        "#First thing will be to define the model architecture.\n",
        "\n",
        "import torch\n",
        "from torch.autograd import Variable\n",
        "\n",
        "class linearRegression(torch.nn.Module):\n",
        "    def __init__(self, inputSize, outputSize):\n",
        "        super(linearRegression, self).__init__()\n",
        "        self.linear = torch.nn.Linear(inputSize, outputSize)\n",
        "\n",
        "    def forward(self, x):\n",
        "        out = self.linear(x)\n",
        "        return out\n",
        "\n",
        "inputDim = 1        # takes variable 'x'\n",
        "outputDim = 1       # takes variable 'y'\n",
        "learningRate = 0.01\n",
        "epochs = 100\n",
        "\n",
        "model = linearRegression(inputDim, outputDim)\n",
        "##### For GPU #######\n",
        "if torch.cuda.is_available():\n",
        "    model.cuda()"
      ]
    }
  ]
}