{
  "nbformat": 4,
  "nbformat_minor": 0,
  "metadata": {
    "colab": {
      "provenance": [],
      "authorship_tag": "ABX9TyPpU6qporXSo5IRD5zh5p9y",
      "include_colab_link": true
    },
    "kernelspec": {
      "name": "python3",
      "display_name": "Python 3"
    },
    "language_info": {
      "name": "python"
    }
  },
  "cells": [
    {
      "cell_type": "markdown",
      "metadata": {
        "id": "view-in-github",
        "colab_type": "text"
      },
      "source": [
        "<a href=\"https://colab.research.google.com/github/asmahassouna/rep1/blob/main/Training2.ipynb\" target=\"_parent\"><img src=\"https://colab.research.google.com/assets/colab-badge.svg\" alt=\"Open In Colab\"/></a>"
      ]
    },
    {
      "cell_type": "code",
      "execution_count": 3,
      "metadata": {
        "colab": {
          "base_uri": "https://localhost:8080/"
        },
        "id": "ZwLoJroAvtJj",
        "outputId": "7fed9f1a-47ee-4d57-c513-2da8fbc86bf4"
      },
      "outputs": [
        {
          "output_type": "stream",
          "name": "stdout",
          "text": [
            "3.625\n",
            "0.006805560789138967\n",
            "0.003149722366432421\n",
            "0.0014577418809390808\n",
            "0.0006746662544263408\n",
            "0.00031224633168146497\n",
            "0.00014451259568544985\n",
            "6.688274030085373e-05\n",
            "3.0954401787151545e-05\n",
            "1.432619216393216e-05\n",
            "6.630390835177614e-06\n",
            "3.0686509104558617e-06\n",
            "1.4202207146338108e-06\n",
            "6.573008586287424e-07\n",
            "3.042093488021698e-07\n",
            "1.4079295148299197e-07\n",
            "6.51612294801551e-08\n",
            "3.0157659049261714e-08\n",
            "1.39574468834683e-08\n",
            "6.459729622475179e-09\n",
            "\n",
            "\n",
            "\n",
            "LEARNED:\n",
            "1.0000349103409163 0.9998271260509328\n",
            "\n",
            "\n",
            "TEST:\n",
            "-1.0\n",
            "1.0\n",
            "2.0\n",
            "7.0\n",
            "3001.0\n",
            "30002.0\n"
          ]
        }
      ],
      "source": [
        "\n",
        "\n",
        "import numpy as np\n",
        "\n",
        "X = np.array([1, 2, 3, 4, 5, 6, 7])\n",
        "Y = np.array([2, 3, 4, 5, 6, 7, 8])\n",
        "w_gradient = 0\n",
        "b_gradient = 0\n",
        "w, b = 0.5, 0.5\n",
        "\n",
        "learning_rate = .01\n",
        "loss = 0\n",
        "EPOCHS = 2000\n",
        "N = len(Y)\n",
        "\n",
        "\n",
        "for i in range(EPOCHS):\n",
        "\n",
        "    # Predict\n",
        "    Y_pred = (w * X) + b\n",
        "\n",
        "    # Loss\n",
        "    loss = np.square(Y_pred - Y).sum() / (2.0 * N)\n",
        "    if i % 100 == 0:\n",
        "        print(loss)\n",
        "\n",
        "    # Backprop\n",
        "#dérivé de l'expression du loss\n",
        "    grad_y_pred = (2 / N) * (Y_pred - Y) #\n",
        "    w_gradient = (grad_y_pred * X).sum()\n",
        "    b_gradient = (grad_y_pred).sum()\n",
        "\n",
        "    # Optimize\n",
        "    w -= (w_gradient * learning_rate)\n",
        "    b -= (b_gradient * learning_rate)\n",
        "\n",
        "print(\"\\n\\n\")\n",
        "print(\"LEARNED:\")\n",
        "print(w, b)\n",
        "print(\"\\n\")\n",
        "print(\"TEST:\")\n",
        "print(np.round(b + w * (-2)))\n",
        "print(np.round(b + w * 0))\n",
        "print(np.round(b + w * 1))\n",
        "print(np.round(b + w * 6))\n",
        "print(np.round(b + w * 3000))\n",
        "\n",
        "# Expected: 30001, but gives 30002.\n",
        "# Training for 3000 epochs will give expected result.\n",
        "# For simple demo with less training data and small input range 2000 in enough\n",
        "print(np.round(b + w * 30000))"
      ]
    }
  ]
}