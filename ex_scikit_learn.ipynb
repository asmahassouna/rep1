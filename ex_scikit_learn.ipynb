{
  "nbformat": 4,
  "nbformat_minor": 0,
  "metadata": {
    "colab": {
      "provenance": [],
      "authorship_tag": "ABX9TyOkn8OceuI2Bfpo9vkIq6GO",
      "include_colab_link": true
    },
    "kernelspec": {
      "name": "python3",
      "display_name": "Python 3"
    },
    "language_info": {
      "name": "python"
    }
  },
  "cells": [
    {
      "cell_type": "markdown",
      "metadata": {
        "id": "view-in-github",
        "colab_type": "text"
      },
      "source": [
        "<a href=\"https://colab.research.google.com/github/asmahassouna/rep1/blob/main/ex_scikit_learn.ipynb\" target=\"_parent\"><img src=\"https://colab.research.google.com/assets/colab-badge.svg\" alt=\"Open In Colab\"/></a>"
      ]
    },
    {
      "cell_type": "code",
      "execution_count": 6,
      "metadata": {
        "id": "adYOQJjujY9x",
        "outputId": "62f7f878-7c36-47f3-94b4-2dabdb5e1c30",
        "colab": {
          "base_uri": "https://localhost:8080/"
        }
      },
      "outputs": [
        {
          "output_type": "stream",
          "name": "stdout",
          "text": [
            "[1. 2.]\n",
            "3.0000000000000018\n"
          ]
        },
        {
          "output_type": "execute_result",
          "data": {
            "text/plain": [
              "array([15.])"
            ]
          },
          "metadata": {},
          "execution_count": 6
        }
      ],
      "source": [
        "\n",
        "import numpy as np\n",
        "from sklearn.linear_model import LinearRegression\n",
        "\n",
        "X = np.array([[1, 1], [1, 2], [2, 2], [2, 3]])\n",
        "# y = 1 * x_0 + 2 * x_1 + 3\n",
        "y = np.dot(X, np.array([1, 2])) + 3\n",
        "reg = LinearRegression().fit(X, y)\n",
        "reg.score(X, y)\n",
        "print(reg.coef_) //coef de regression\n",
        "print(reg.intercept_)\n",
        "reg.predict(np.array([[2, 5]]))"
      ]
    }
  ]
}